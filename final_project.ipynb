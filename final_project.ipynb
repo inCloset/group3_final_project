{
 "cells": [
  {
   "cell_type": "markdown",
   "metadata": {},
   "source": [
    "## import your modules needed"
   ]
  },
  {
   "cell_type": "code",
   "execution_count": 1,
   "metadata": {},
   "outputs": [
    {
     "name": "stderr",
     "output_type": "stream",
     "text": [
      "/Users/frank/Desktop/OSU/BootCamp/Development/Project/group2-project-25.05.01/group3_final_project/.venv/lib/python3.12/site-packages/tqdm/auto.py:21: TqdmWarning: IProgress not found. Please update jupyter and ipywidgets. See https://ipywidgets.readthedocs.io/en/stable/user_install.html\n",
      "  from .autonotebook import tqdm as notebook_tqdm\n",
      "None of PyTorch, TensorFlow >= 2.0, or Flax have been found. Models won't be available and only tokenizers, configuration and file/data utilities can be used.\n",
      "None of PyTorch, TensorFlow >= 2.0, or Flax have been found. Models won't be available and only tokenizers, configuration and file/data utilities can be used.\n"
     ]
    }
   ],
   "source": [
    "import requests as req\n",
    "import time\n",
    "import os\n",
    "from dotenv import load_dotenv\n",
    "from bs4 import BeautifulSoup\n",
    "import pandas as pd\n",
    "from transformers import pipeline, logging\n",
    "import numpy as np\n",
    "from langchain_openai import OpenAI\n",
    "from langchain.prompts import PromptTemplate\n",
    "from langchain.chains import LLMChain"
   ]
  },
  {
   "cell_type": "code",
   "execution_count": 2,
   "metadata": {},
   "outputs": [],
   "source": [
    "load_dotenv()\n",
    "SEC_API_KEY = os.getenv('SEC_API_KEY')\n",
    "OPENAI_KEY = os.getenv('OPENAI_API_KEY')\n",
    "EMAIL=os.getenv(\"EMAIL\")\n"
   ]
  },
  {
   "cell_type": "code",
   "execution_count": 3,
   "metadata": {},
   "outputs": [],
   "source": [
    "#company_tickers = ['UPST', 'KO', 'TSLA', 'INTC']\n",
    "company_tickers = ['UPST']"
   ]
  },
  {
   "cell_type": "markdown",
   "metadata": {},
   "source": [
    "## use edgar api to search company using their ticker to fetch FR document "
   ]
  },
  {
   "cell_type": "code",
   "execution_count": 4,
   "metadata": {},
   "outputs": [],
   "source": [
    "def get_comp_sec(ticker):\n",
    "    \"\"\"\n",
    "    Get the company SECURITIES AND EXCHANGE COMMISSION reports for a given ticker symbol.\n",
    "    \n",
    "    Args:\n",
    "        ticker (str): The ticker symbol of the company.\n",
    "    \n",
    "    Returns:\n",
    "        object: filings of the company.\n",
    "    \"\"\"\n",
    "    base_url = \"https://api.sec-api.io\"\n",
    "    payload = {\n",
    "                \"query\": f'formType:\\\"10-K\\\" AND ticker:{ticker} AND filedAt:[2020-01-01 TO 2025-01-31]',\n",
    "                \"from\": \"0\",\n",
    "                \"size\": \"50\",\n",
    "                \"sort\": [{ \"filedAt\": { \"order\": \"desc\" }}]\n",
    "            }\n",
    "    response = req.post(base_url, json=payload, headers={'Authorization': SEC_API_KEY})\n",
    "    \n",
    "    if response.status_code == 200:\n",
    "        comp_tenk_filing = response.json()\n",
    "        return comp_tenk_filing\n",
    "    else:\n",
    "        raise Exception(f'Error fetching Company 10 k filings. Status code: {response.status_code}')"
   ]
  },
  {
   "cell_type": "code",
   "execution_count": 5,
   "metadata": {},
   "outputs": [],
   "source": [
    "def safe_get_filings(tkr):\n",
    "    try:\n",
    "        time.sleep(1)\n",
    "        return get_comp_sec(tkr)\n",
    "    except Exception as e:\n",
    "        print(f\"Error fetching {tkr}: {e}\")\n",
    "        return None"
   ]
  },
  {
   "cell_type": "code",
   "execution_count": 6,
   "metadata": {},
   "outputs": [
    {
     "name": "stdout",
     "output_type": "stream",
     "text": [
      "[{'total': {'value': 4, 'relation': 'eq'}, 'query': {'from': 0, 'size': 50}, 'filings': [{'ticker': 'UPST', 'formType': '10-K', 'accessionNo': '0001647639-24-000009', 'cik': '1647639', 'companyNameLong': 'Upstart Holdings, Inc. (Filer)', 'companyName': 'Upstart Holdings, Inc.', 'linkToFilingDetails': 'https://www.sec.gov/Archives/edgar/data/1647639/000164763924000009/upst-20231231.htm', 'description': 'Form 10-K - Annual report [Section 13 and 15(d), not S-K Item 405]', 'linkToTxt': 'https://www.sec.gov/Archives/edgar/data/1647639/000164763924000009/0001647639-24-000009.txt', 'filedAt': '2024-02-15T16:16:15-05:00', 'documentFormatFiles': [{'sequence': '1', 'size': '3097961', 'documentUrl': 'https://www.sec.gov/ix?doc=/Archives/edgar/data/1647639/000164763924000009/upst-20231231.htm', 'description': '10-K', 'type': '10-K'}, {'sequence': '2', 'size': '4470', 'documentUrl': 'https://www.sec.gov/Archives/edgar/data/1647639/000164763924000009/exhibit211subsidiariesofth.htm', 'description': 'EX-21.1', 'type': 'EX-21.1'}, {'sequence': '3', 'size': '2073', 'documentUrl': 'https://www.sec.gov/Archives/edgar/data/1647639/000164763924000009/exhibit232023auditorconsent.htm', 'description': 'EX-23', 'type': 'EX-23'}, {'sequence': '4', 'size': '9989', 'documentUrl': 'https://www.sec.gov/Archives/edgar/data/1647639/000164763924000009/exhibit311q42023.htm', 'description': 'EX-31.1', 'type': 'EX-31.1'}, {'sequence': '5', 'size': '9986', 'documentUrl': 'https://www.sec.gov/Archives/edgar/data/1647639/000164763924000009/exhibit312q42023.htm', 'description': 'EX-31.2', 'type': 'EX-31.2'}, {'sequence': '6', 'size': '8918', 'documentUrl': 'https://www.sec.gov/Archives/edgar/data/1647639/000164763924000009/exhibit321q42023.htm', 'description': 'EX-32.1', 'type': 'EX-32.1'}, {'sequence': '7', 'size': '29600', 'documentUrl': 'https://www.sec.gov/Archives/edgar/data/1647639/000164763924000009/exhibit971upstrtholdingsin.htm', 'description': 'EX-97.1', 'type': 'EX-97.1'}, {'sequence': '13', 'size': '50795', 'documentUrl': 'https://www.sec.gov/Archives/edgar/data/1647639/000164763924000009/upst-20231231_g1.jpg', 'description': 'GRAPHIC', 'type': 'GRAPHIC'}, {'sequence': '14', 'size': '143352', 'documentUrl': 'https://www.sec.gov/Archives/edgar/data/1647639/000164763924000009/upst-20231231_g2.jpg', 'description': 'PERFORMANCE GRAPH', 'type': 'GRAPHIC'}, {'sequence': '\\xa0', 'size': '15191043', 'documentUrl': 'https://www.sec.gov/Archives/edgar/data/1647639/000164763924000009/0001647639-24-000009.txt', 'description': 'Complete submission text file', 'type': '\\xa0'}], 'periodOfReport': '2023-12-31', 'entities': [{'fiscalYearEnd': '1231', 'stateOfIncorporation': 'DE', 'act': '34', 'cik': '1647639', 'fileNo': '001-39797', 'irsNo': '464332431', 'companyName': 'Upstart Holdings, Inc. (Filer)', 'type': '10-K', 'sic': '6199 Finance Services', 'filmNo': '24644018'}], 'id': 'e87c8cec55a5a4586af2bd664450ad2f', 'seriesAndClassesContractsInformation': [], 'linkToHtml': 'https://www.sec.gov/Archives/edgar/data/1647639/000164763924000009/0001647639-24-000009-index.htm', 'linkToXbrl': '', 'dataFiles': [{'sequence': '8', 'size': '97438', 'documentUrl': 'https://www.sec.gov/Archives/edgar/data/1647639/000164763924000009/upst-20231231.xsd', 'description': 'XBRL TAXONOMY EXTENSION SCHEMA DOCUMENT', 'type': 'EX-101.SCH'}, {'sequence': '9', 'size': '121119', 'documentUrl': 'https://www.sec.gov/Archives/edgar/data/1647639/000164763924000009/upst-20231231_cal.xml', 'description': 'XBRL TAXONOMY EXTENSION CALCULATION LINKBASE DOCUMENT', 'type': 'EX-101.CAL'}, {'sequence': '10', 'size': '500367', 'documentUrl': 'https://www.sec.gov/Archives/edgar/data/1647639/000164763924000009/upst-20231231_def.xml', 'description': 'XBRL TAXONOMY EXTENSION DEFINITION LINKBASE DOCUMENT', 'type': 'EX-101.DEF'}, {'sequence': '11', 'size': '1209595', 'documentUrl': 'https://www.sec.gov/Archives/edgar/data/1647639/000164763924000009/upst-20231231_lab.xml', 'description': 'XBRL TAXONOMY EXTENSION LABEL LINKBASE DOCUMENT', 'type': 'EX-101.LAB'}, {'sequence': '12', 'size': '827536', 'documentUrl': 'https://www.sec.gov/Archives/edgar/data/1647639/000164763924000009/upst-20231231_pre.xml', 'description': 'XBRL TAXONOMY EXTENSION PRESENTATION LINKBASE DOCUMENT', 'type': 'EX-101.PRE'}, {'sequence': '120', 'size': '2399667', 'documentUrl': 'https://www.sec.gov/Archives/edgar/data/1647639/000164763924000009/upst-20231231_htm.xml', 'description': 'EXTRACTED XBRL INSTANCE DOCUMENT', 'type': 'XML'}]}, {'ticker': 'UPST', 'formType': '10-K', 'accessionNo': '0001647639-23-000021', 'cik': '1647639', 'companyNameLong': 'Upstart Holdings, Inc. (Filer)', 'companyName': 'Upstart Holdings, Inc.', 'linkToFilingDetails': 'https://www.sec.gov/Archives/edgar/data/1647639/000164763923000021/upst-20221231.htm', 'description': 'Form 10-K - Annual report [Section 13 and 15(d), not S-K Item 405]', 'linkToTxt': 'https://www.sec.gov/Archives/edgar/data/1647639/000164763923000021/0001647639-23-000021.txt', 'filedAt': '2023-02-16T15:49:35-05:00', 'documentFormatFiles': [{'sequence': '1', 'size': '3572488', 'documentUrl': 'https://www.sec.gov/ix?doc=/Archives/edgar/data/1647639/000164763923000021/upst-20221231.htm', 'description': '10-K', 'type': '10-K'}, {'sequence': '2', 'size': '43565', 'documentUrl': 'https://www.sec.gov/Archives/edgar/data/1647639/000164763923000021/a43upstrt-10xkdescriptiono.htm', 'description': 'EX-4.3', 'type': 'EX-4.3'}, {'sequence': '3', 'size': '28607', 'documentUrl': 'https://www.sec.gov/Archives/edgar/data/1647639/000164763923000021/a1010scott_darlingxofferxl.htm', 'description': 'EX-10.10', 'type': 'EX-10.10'}, {'sequence': '4', 'size': '23207', 'documentUrl': 'https://www.sec.gov/Archives/edgar/data/1647639/000164763923000021/amendmentno1tockpromotiona.htm', 'description': 'EX-10.15(A)', 'type': 'EX-10.15(A)'}, {'sequence': '5', 'size': '4571', 'documentUrl': 'https://www.sec.gov/Archives/edgar/data/1647639/000164763923000021/a211subsidiariesoftheregis.htm', 'description': 'EX-21.1', 'type': 'EX-21.1'}, {'sequence': '6', 'size': '2542', 'documentUrl': 'https://www.sec.gov/Archives/edgar/data/1647639/000164763923000021/exhibit232022auditorconsent.htm', 'description': 'EX-23', 'type': 'EX-23'}, {'sequence': '7', 'size': '10063', 'documentUrl': 'https://www.sec.gov/Archives/edgar/data/1647639/000164763923000021/exhibit311q42022.htm', 'description': 'EX-31.1', 'type': 'EX-31.1'}, {'sequence': '8', 'size': '10052', 'documentUrl': 'https://www.sec.gov/Archives/edgar/data/1647639/000164763923000021/a312q422.htm', 'description': 'EX-31.2', 'type': 'EX-31.2'}, {'sequence': '9', 'size': '9114', 'documentUrl': 'https://www.sec.gov/Archives/edgar/data/1647639/000164763923000021/exhibit321q42022.htm', 'description': 'EX-32.1', 'type': 'EX-32.1'}, {'sequence': '15', 'size': '3417', 'documentUrl': 'https://www.sec.gov/Archives/edgar/data/1647639/000164763923000021/image_0.jpg', 'type': 'GRAPHIC'}, {'sequence': '16', 'size': '50795', 'documentUrl': 'https://www.sec.gov/Archives/edgar/data/1647639/000164763923000021/upst-20221231_g1.jpg', 'type': 'GRAPHIC'}, {'sequence': '17', 'size': '142388', 'documentUrl': 'https://www.sec.gov/Archives/edgar/data/1647639/000164763923000021/upst-20221231_g2.jpg', 'type': 'GRAPHIC'}, {'sequence': '\\xa0', 'size': '15454456', 'documentUrl': 'https://www.sec.gov/Archives/edgar/data/1647639/000164763923000021/0001647639-23-000021.txt', 'description': 'Complete submission text file', 'type': '\\xa0'}], 'periodOfReport': '2022-12-31', 'entities': [{'fiscalYearEnd': '1231', 'stateOfIncorporation': 'DE', 'act': '34', 'cik': '1647639', 'fileNo': '001-39797', 'irsNo': '464332431', 'companyName': 'Upstart Holdings, Inc. (Filer)', 'type': '10-K', 'sic': '6199 Finance Services', 'filmNo': '23638369'}], 'id': '651ce76d4d1bc9b007941b2cf786971d', 'seriesAndClassesContractsInformation': [], 'linkToHtml': 'https://www.sec.gov/Archives/edgar/data/1647639/000164763923000021/0001647639-23-000021-index.htm', 'linkToXbrl': '', 'dataFiles': [{'sequence': '10', 'size': '87835', 'documentUrl': 'https://www.sec.gov/Archives/edgar/data/1647639/000164763923000021/upst-20221231.xsd', 'description': 'XBRL TAXONOMY EXTENSION SCHEMA DOCUMENT', 'type': 'EX-101.SCH'}, {'sequence': '11', 'size': '125198', 'documentUrl': 'https://www.sec.gov/Archives/edgar/data/1647639/000164763923000021/upst-20221231_cal.xml', 'description': 'XBRL TAXONOMY EXTENSION CALCULATION LINKBASE DOCUMENT', 'type': 'EX-101.CAL'}, {'sequence': '12', 'size': '522213', 'documentUrl': 'https://www.sec.gov/Archives/edgar/data/1647639/000164763923000021/upst-20221231_def.xml', 'description': 'XBRL TAXONOMY EXTENSION DEFINITION LINKBASE DOCUMENT', 'type': 'EX-101.DEF'}, {'sequence': '13', 'size': '1116395', 'documentUrl': 'https://www.sec.gov/Archives/edgar/data/1647639/000164763923000021/upst-20221231_lab.xml', 'description': 'XBRL TAXONOMY EXTENSION LABEL LINKBASE DOCUMENT', 'type': 'EX-101.LAB'}, {'sequence': '14', 'size': '798168', 'documentUrl': 'https://www.sec.gov/Archives/edgar/data/1647639/000164763923000021/upst-20221231_pre.xml', 'description': 'XBRL TAXONOMY EXTENSION PRESENTATION LINKBASE DOCUMENT', 'type': 'EX-101.PRE'}, {'sequence': '106', 'size': '2641680', 'documentUrl': 'https://www.sec.gov/Archives/edgar/data/1647639/000164763923000021/upst-20221231_htm.xml', 'description': 'EXTRACTED XBRL INSTANCE DOCUMENT', 'type': 'XML'}]}, {'ticker': 'UPST', 'formType': '10-K', 'accessionNo': '0001647639-22-000009', 'cik': '1647639', 'companyNameLong': 'Upstart Holdings, Inc. (Filer)', 'companyName': 'Upstart Holdings, Inc.', 'linkToFilingDetails': 'https://www.sec.gov/Archives/edgar/data/1647639/000164763922000009/upst-20211231.htm', 'description': 'Form 10-K - Annual report [Section 13 and 15(d), not S-K Item 405]', 'linkToTxt': 'https://www.sec.gov/Archives/edgar/data/1647639/000164763922000009/0001647639-22-000009.txt', 'filedAt': '2022-02-17T19:36:15-05:00', 'documentFormatFiles': [{'sequence': '1', 'size': '3583310', 'documentUrl': 'https://www.sec.gov/ix?doc=/Archives/edgar/data/1647639/000164763922000009/upst-20211231.htm', 'description': '10-K', 'type': '10-K'}, {'sequence': '2', 'size': '35076', 'documentUrl': 'https://www.sec.gov/Archives/edgar/data/1647639/000164763922000009/a31amendedrestatedcertofin.htm', 'description': 'EX-3.1', 'type': 'EX-3.1'}, {'sequence': '3', 'size': '43191', 'documentUrl': 'https://www.sec.gov/Archives/edgar/data/1647639/000164763922000009/a43upstrt-10xkdescriptiono.htm', 'description': 'EX-4.3', 'type': 'EX-4.3'}, {'sequence': '4', 'size': '46695', 'documentUrl': 'https://www.sec.gov/Archives/edgar/data/1647639/000164763922000009/a107outsidedirectorcomppol.htm', 'description': 'EX-10.7', 'type': 'EX-10.7'}, {'sequence': '5', 'size': '3443', 'documentUrl': 'https://www.sec.gov/Archives/edgar/data/1647639/000164763922000009/a211subsidiariesoftheregis.htm', 'description': 'EX-21.1', 'type': 'EX-21.1'}, {'sequence': '6', 'size': '2246', 'documentUrl': 'https://www.sec.gov/Archives/edgar/data/1647639/000164763922000009/a23auditorconsent.htm', 'description': 'EX-23', 'type': 'EX-23'}, {'sequence': '7', 'size': '10063', 'documentUrl': 'https://www.sec.gov/Archives/edgar/data/1647639/000164763922000009/exhibit311q42021.htm', 'description': 'EX-31.1', 'type': 'EX-31.1'}, {'sequence': '8', 'size': '10059', 'documentUrl': 'https://www.sec.gov/Archives/edgar/data/1647639/000164763922000009/a3121012021q421.htm', 'description': 'EX-31.2', 'type': 'EX-31.2'}, {'sequence': '9', 'size': '9114', 'documentUrl': 'https://www.sec.gov/Archives/edgar/data/1647639/000164763922000009/exhibit321q42021.htm', 'description': 'EX-32.1', 'type': 'EX-32.1'}, {'sequence': '15', 'size': '320680', 'documentUrl': 'https://www.sec.gov/Archives/edgar/data/1647639/000164763922000009/upst-20211231_g1.jpg', 'type': 'GRAPHIC'}, {'sequence': '\\xa0', 'size': '15765285', 'documentUrl': 'https://www.sec.gov/Archives/edgar/data/1647639/000164763922000009/0001647639-22-000009.txt', 'description': 'Complete submission text file', 'type': '\\xa0'}], 'periodOfReport': '2021-12-31', 'entities': [{'fiscalYearEnd': '1231', 'stateOfIncorporation': 'DE', 'act': '34', 'cik': '1647639', 'fileNo': '001-39797', 'irsNo': '464332431', 'companyName': 'Upstart Holdings, Inc. (Filer)', 'type': '10-K', 'sic': '6199 Finance Services', 'filmNo': '22650374'}], 'id': 'fa6e6cd2e5419c758604b0f86bdc651c', 'seriesAndClassesContractsInformation': [], 'linkToHtml': 'https://www.sec.gov/Archives/edgar/data/1647639/000164763922000009/0001647639-22-000009-index.htm', 'linkToXbrl': '', 'dataFiles': [{'sequence': '10', 'size': '91935', 'documentUrl': 'https://www.sec.gov/Archives/edgar/data/1647639/000164763922000009/upst-20211231.xsd', 'description': 'XBRL TAXONOMY EXTENSION SCHEMA DOCUMENT', 'type': 'EX-101.SCH'}, {'sequence': '11', 'size': '127076', 'documentUrl': 'https://www.sec.gov/Archives/edgar/data/1647639/000164763922000009/upst-20211231_cal.xml', 'description': 'XBRL TAXONOMY EXTENSION CALCULATION LINKBASE DOCUMENT', 'type': 'EX-101.CAL'}, {'sequence': '12', 'size': '513274', 'documentUrl': 'https://www.sec.gov/Archives/edgar/data/1647639/000164763922000009/upst-20211231_def.xml', 'description': 'XBRL TAXONOMY EXTENSION DEFINITION LINKBASE DOCUMENT', 'type': 'EX-101.DEF'}, {'sequence': '13', 'size': '1108180', 'documentUrl': 'https://www.sec.gov/Archives/edgar/data/1647639/000164763922000009/upst-20211231_lab.xml', 'description': 'XBRL TAXONOMY EXTENSION LABEL LINKBASE DOCUMENT', 'type': 'EX-101.LAB'}, {'sequence': '14', 'size': '782297', 'documentUrl': 'https://www.sec.gov/Archives/edgar/data/1647639/000164763922000009/upst-20211231_pre.xml', 'description': 'XBRL TAXONOMY EXTENSION PRESENTATION LINKBASE DOCUMENT', 'type': 'EX-101.PRE'}, {'sequence': '104', 'size': '2722618', 'documentUrl': 'https://www.sec.gov/Archives/edgar/data/1647639/000164763922000009/upst-20211231_htm.xml', 'description': 'EXTRACTED XBRL INSTANCE DOCUMENT', 'type': 'XML'}]}, {'ticker': 'UPST', 'formType': '10-K', 'accessionNo': '0001647639-21-000004', 'cik': '1647639', 'companyNameLong': 'Upstart Holdings, Inc. (Filer)', 'effectivenessDate': '2020-12-31', 'companyName': 'Upstart Holdings, Inc.', 'linkToFilingDetails': 'https://www.sec.gov/Archives/edgar/data/1647639/000164763921000004/upstrtholdingsinc202010-k.htm', 'description': 'Form 10-K - Annual report [Section 13 and 15(d), not S-K Item 405]', 'linkToTxt': 'https://www.sec.gov/Archives/edgar/data/1647639/000164763921000004/0001647639-21-000004.txt', 'filedAt': '2021-03-18T16:42:45-04:00', 'documentFormatFiles': [{'sequence': '1', 'size': '2613484', 'documentUrl': 'https://www.sec.gov/Archives/edgar/data/1647639/000164763921000004/upstrtholdingsinc202010-k.htm', 'description': '10-K', 'type': '10-K'}, {'sequence': '2', 'size': '44009', 'documentUrl': 'https://www.sec.gov/Archives/edgar/data/1647639/000164763921000004/upstrt-10xkdescriptionofca.htm', 'description': 'EX-4.3', 'type': 'EX-4.3'}, {'sequence': '3', 'size': '9173', 'documentUrl': 'https://www.sec.gov/Archives/edgar/data/1647639/000164763921000004/exhibit311fy20204816x4284x.htm', 'description': 'EX-31.1', 'type': 'EX-31.1'}, {'sequence': '4', 'size': '9169', 'documentUrl': 'https://www.sec.gov/Archives/edgar/data/1647639/000164763921000004/a312fy20204821x3089x14892.htm', 'description': 'EX-31.2', 'type': 'EX-31.2'}, {'sequence': '5', 'size': '9073', 'documentUrl': 'https://www.sec.gov/Archives/edgar/data/1647639/000164763921000004/exhibit321fy20204843x3604x.htm', 'description': 'EX-32.1', 'type': 'EX-32.1'}, {'sequence': '6', 'size': '72397', 'documentUrl': 'https://www.sec.gov/Archives/edgar/data/1647639/000164763921000004/screenshot2021-03x12at1145.jpg', 'description': 'GRAPHIC', 'type': 'GRAPHIC'}, {'sequence': '\\xa0', 'size': '2785740', 'documentUrl': 'https://www.sec.gov/Archives/edgar/data/1647639/000164763921000004/0001647639-21-000004.txt', 'description': 'Complete submission text file', 'type': '\\xa0'}], 'periodOfReport': '2020-12-31', 'entities': [{'fiscalYearEnd': '1231', 'stateOfIncorporation': 'DE', 'act': '34', 'cik': '1647639', 'fileNo': '001-39797', 'irsNo': '464332431', 'companyName': 'Upstart Holdings, Inc. (Filer)', 'type': '10-K', 'sic': '6199 Finance Services', 'filmNo': '21754893'}], 'id': 'e688a268cac89eb75dca6642509e6825', 'seriesAndClassesContractsInformation': [], 'linkToHtml': 'https://www.sec.gov/Archives/edgar/data/1647639/000164763921000004/0001647639-21-000004-index.htm', 'linkToXbrl': '', 'dataFiles': []}]}]\n"
     ]
    }
   ],
   "source": [
    "company_filings_info = [safe_get_filings(tkr) for tkr in company_tickers]\n",
    "print(company_filings_info)"
   ]
  },
  {
   "cell_type": "code",
   "execution_count": null,
   "metadata": {},
   "outputs": [],
   "source": [
    "# Extract "
   ]
  },
  {
   "cell_type": "code",
   "execution_count": null,
   "metadata": {},
   "outputs": [
    {
     "name": "stdout",
     "output_type": "stream",
     "text": [
      "Total filings: 4\n"
     ]
    }
   ],
   "source": [
    "#intialize an empty list\n",
    "data=[]\n",
    "for comp in company_filings_info:\n",
    "    if comp is not None:\n",
    "        for filing in comp['filings']:\n",
    "            data.append({\n",
    "                \"company\": filing[\"companyName\"],\n",
    "                \"filing_date\": filing[\"filedAt\"],\n",
    "                \"link\": filing[\"linkToFilingDetails\"],\n",
    "                \"linkToTxt\": filing[\"linkToTxt\"]\n",
    "            })\n",
    "   \n",
    "    else:\n",
    "        print(\"No filings found.\")\n"
   ]
  },
  {
   "cell_type": "code",
   "execution_count": null,
   "metadata": {},
   "outputs": [
    {
     "name": "stdout",
     "output_type": "stream",
     "text": [
      "https://www.sec.gov/Archives/edgar/data/1647639/000164763924000009/0001647639-24-000009.txt\n"
     ]
    }
   ],
   "source": []
  },
  {
   "cell_type": "markdown",
   "metadata": {},
   "source": [
    "### Dataframe of financial report for companies"
   ]
  },
  {
   "cell_type": "code",
   "execution_count": 9,
   "metadata": {},
   "outputs": [
    {
     "data": {
      "text/html": [
       "<div>\n",
       "<style scoped>\n",
       "    .dataframe tbody tr th:only-of-type {\n",
       "        vertical-align: middle;\n",
       "    }\n",
       "\n",
       "    .dataframe tbody tr th {\n",
       "        vertical-align: top;\n",
       "    }\n",
       "\n",
       "    .dataframe thead th {\n",
       "        text-align: right;\n",
       "    }\n",
       "</style>\n",
       "<table border=\"1\" class=\"dataframe\">\n",
       "  <thead>\n",
       "    <tr style=\"text-align: right;\">\n",
       "      <th></th>\n",
       "      <th>company</th>\n",
       "      <th>filing_date</th>\n",
       "      <th>link</th>\n",
       "      <th>linkToTxt</th>\n",
       "    </tr>\n",
       "  </thead>\n",
       "  <tbody>\n",
       "    <tr>\n",
       "      <th>0</th>\n",
       "      <td>Upstart Holdings, Inc.</td>\n",
       "      <td>2024-02-15T16:16:15-05:00</td>\n",
       "      <td>https://www.sec.gov/Archives/edgar/data/164763...</td>\n",
       "      <td>https://www.sec.gov/Archives/edgar/data/164763...</td>\n",
       "    </tr>\n",
       "    <tr>\n",
       "      <th>1</th>\n",
       "      <td>Upstart Holdings, Inc.</td>\n",
       "      <td>2023-02-16T15:49:35-05:00</td>\n",
       "      <td>https://www.sec.gov/Archives/edgar/data/164763...</td>\n",
       "      <td>https://www.sec.gov/Archives/edgar/data/164763...</td>\n",
       "    </tr>\n",
       "    <tr>\n",
       "      <th>2</th>\n",
       "      <td>Upstart Holdings, Inc.</td>\n",
       "      <td>2022-02-17T19:36:15-05:00</td>\n",
       "      <td>https://www.sec.gov/Archives/edgar/data/164763...</td>\n",
       "      <td>https://www.sec.gov/Archives/edgar/data/164763...</td>\n",
       "    </tr>\n",
       "    <tr>\n",
       "      <th>3</th>\n",
       "      <td>Upstart Holdings, Inc.</td>\n",
       "      <td>2021-03-18T16:42:45-04:00</td>\n",
       "      <td>https://www.sec.gov/Archives/edgar/data/164763...</td>\n",
       "      <td>https://www.sec.gov/Archives/edgar/data/164763...</td>\n",
       "    </tr>\n",
       "  </tbody>\n",
       "</table>\n",
       "</div>"
      ],
      "text/plain": [
       "                  company                filing_date  \\\n",
       "0  Upstart Holdings, Inc.  2024-02-15T16:16:15-05:00   \n",
       "1  Upstart Holdings, Inc.  2023-02-16T15:49:35-05:00   \n",
       "2  Upstart Holdings, Inc.  2022-02-17T19:36:15-05:00   \n",
       "3  Upstart Holdings, Inc.  2021-03-18T16:42:45-04:00   \n",
       "\n",
       "                                                link  \\\n",
       "0  https://www.sec.gov/Archives/edgar/data/164763...   \n",
       "1  https://www.sec.gov/Archives/edgar/data/164763...   \n",
       "2  https://www.sec.gov/Archives/edgar/data/164763...   \n",
       "3  https://www.sec.gov/Archives/edgar/data/164763...   \n",
       "\n",
       "                                           linkToTxt  \n",
       "0  https://www.sec.gov/Archives/edgar/data/164763...  \n",
       "1  https://www.sec.gov/Archives/edgar/data/164763...  \n",
       "2  https://www.sec.gov/Archives/edgar/data/164763...  \n",
       "3  https://www.sec.gov/Archives/edgar/data/164763...  "
      ]
     },
     "execution_count": 9,
     "metadata": {},
     "output_type": "execute_result"
    }
   ],
   "source": [
    "financial_report_df = pd.DataFrame(data)\n",
    "financial_report_df.head()"
   ]
  },
  {
   "cell_type": "markdown",
   "metadata": {},
   "source": [
    "## instantiate  and create a open ai object using the provided api key and prompt engineer to summarize a given financial report"
   ]
  },
  {
   "cell_type": "code",
   "execution_count": null,
   "metadata": {},
   "outputs": [],
   "source": [
    "\n",
    "llm = OpenAI(openai_api_key=OPENAI_KEY, temperature=0.9)\n",
    "prompt_template = PromptTemplate(\n",
    "    template=\"Give me an example of a meal that could be made using the following ingredients: {ingredients}\",\n",
    "    input_variables=[\"ingredients\"]\n",
    ")\n",
    "\n",
    "meal_chain = LLMChain(\n",
    "    llm=llm, \n",
    "    prompt=prompt_template, \n",
    "    verbose=True\n",
    ")"
   ]
  },
  {
   "cell_type": "markdown",
   "metadata": {},
   "source": [
    "### Get sentiment analyses of financial report using ProsusAI/finbert"
   ]
  },
  {
   "cell_type": "code",
   "execution_count": null,
   "metadata": {},
   "outputs": [],
   "source": [
    "def beautiful_soup(url):\n",
    "    \"\"\"\n",
    "    Get the soup object from the url.\n",
    "    \n",
    "    Args:\n",
    "        url (str): The url of the filing.\n",
    "    \n",
    "    Returns:\n",
    "        object: soup object.\n",
    "    \"\"\"\n",
    "    headers = {\n",
    "    'User-Agent': EMAIL\n",
    "    }\n",
    "    response = req.get(url, headers=headers)\n",
    "    if response.status_code == 200:\n",
    "        soup = BeautifulSoup(response.content, 'lxml')\n",
    "        return soup.get_text()\n",
    "    else:\n",
    "        raise Exception(f'Error fetching filing. Status code: {response.status_code}')"
   ]
  },
  {
   "cell_type": "code",
   "execution_count": null,
   "metadata": {},
   "outputs": [],
   "source": [
    "#use a request to get the data\n",
    "#url=\"https://www.sec.gov/Archives/edgar/data/1647639/000164763924000009/upst-20231231.htm\"\n",
    "\n",
    "# Create an empty column for filing text\n",
    "financial_report_df[\"filing_text\"] = None\n",
    "#make the request\n",
    "for idx, row in financial_report_df.iterrows():\n",
    "    url = row[\"link\"]\n",
    "    filing_text = beautiful_soup(url)\n",
    "    # Assign the filing text to the appropriate row\n",
    "    financial_report_df.at[idx, \"filing_text\"] = filing_text\n",
    "\n"
   ]
  },
  {
   "cell_type": "code",
   "execution_count": null,
   "metadata": {},
   "outputs": [],
   "source": [
    "financial_report_df"
   ]
  },
  {
   "cell_type": "code",
   "execution_count": null,
   "metadata": {},
   "outputs": [],
   "source": [
    "#sentiment analysis\n",
    "\n",
    "\n",
    "# Silence transformers logging (optional)\n",
    "logging.set_verbosity_error()\n",
    "\n",
    "# Load FinBERT sentiment analysis pipeline\n",
    "sentiment_analyzer = pipeline(\n",
    "    \"sentiment-analysis\",\n",
    "    model=\"ProsusAI/finbert\"\n",
    ")\n",
    "\n",
    "#define function to get overall sentiment\n",
    "def overall_sentiment(text):\n",
    "    if not isinstance(text, str) or len(text.strip()) == 0:\n",
    "        return {\n",
    "            \"overall_sentiment\": \"error\",\n",
    "            \"average_score\": None\n",
    "        }\n",
    "    \n",
    "    # Break the text into chunks (basic method)\n",
    "    chunks = [text[i:i + 1000] for i in range(0, len(text), 1000)]\n",
    "\n",
    "    #make empty list for sentiment score\n",
    "    sentiment_score = []\n",
    "\n",
    "    # Analyze sentiment\n",
    "    for chunk in chunks:\n",
    "        result = sentiment_analyzer(chunk[:512])\n",
    "        sentiment_score.append(result[0][\"score\"])\n",
    "    \n",
    "    # Calculate the average score\n",
    "    average_score = np.mean(sentiment_score)\n",
    "    \n",
    "    # Determine the overall sentiment based on the average score\n",
    "    if average_score >= 0.75:\n",
    "        overall_sentiment = 'positive'\n",
    "    elif average_score <= 0.25:\n",
    "        overall_sentiment = 'negative'\n",
    "    else:\n",
    "        overall_sentiment = 'neutral'\n",
    "    \n",
    "    return {\n",
    "           \"overall_sentiment\": overall_sentiment,\n",
    "           \"average_score\": average_score\n",
    "    }\n",
    "\n",
    "#add to data_df dataframe\n",
    "sentiment_results = financial_report_df[\"filing_text\"].apply(overall_sentiment)\n",
    "financial_report_df[\"sentiment\"] = sentiment_results.apply(lambda x: x[\"overall_sentiment\"])\n",
    "financial_report_df[\"sentiment_score\"] = sentiment_results.apply(lambda x: x[\"average_score\"])\n",
    "    \n",
    "\n"
   ]
  },
  {
   "cell_type": "code",
   "execution_count": null,
   "metadata": {},
   "outputs": [],
   "source": [
    "financial_report_df"
   ]
  },
  {
   "cell_type": "markdown",
   "metadata": {},
   "source": [
    "## create a LLM that model that iterate through the list of pdf files to analyze, syntesize, and summarize the pdf pages content"
   ]
  },
  {
   "cell_type": "code",
   "execution_count": null,
   "metadata": {},
   "outputs": [],
   "source": []
  }
 ],
 "metadata": {
  "kernelspec": {
   "display_name": ".venv",
   "language": "python",
   "name": "python3"
  },
  "language_info": {
   "codemirror_mode": {
    "name": "ipython",
    "version": 3
   },
   "file_extension": ".py",
   "mimetype": "text/x-python",
   "name": "python",
   "nbconvert_exporter": "python",
   "pygments_lexer": "ipython3",
   "version": "3.12.9"
  }
 },
 "nbformat": 4,
 "nbformat_minor": 2
}
